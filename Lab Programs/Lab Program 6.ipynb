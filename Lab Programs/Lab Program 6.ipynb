{
 "cells": [
  {
   "cell_type": "code",
   "execution_count": 1,
   "metadata": {},
   "outputs": [],
   "source": [
    "import pandas as pd"
   ]
  },
  {
   "cell_type": "code",
   "execution_count": 2,
   "metadata": {},
   "outputs": [
    {
     "name": "stdout",
     "output_type": "stream",
     "text": [
      "Total instance in the dataset :  18\n"
     ]
    }
   ],
   "source": [
    "msg=pd.read_csv('C:/Users/ADMIN/Desktop/4MT17CS059/data6.csv',names=['message','label'])\n",
    "print(\"Total instance in the dataset : \",msg.shape[0])"
   ]
  },
  {
   "cell_type": "code",
   "execution_count": 3,
   "metadata": {},
   "outputs": [],
   "source": [
    "msg['labelnum']=msg.label.map({'pos':1,'neg':0})\n",
    "X=msg.message\n",
    "Y=msg.labelnum"
   ]
  },
  {
   "cell_type": "code",
   "execution_count": 5,
   "metadata": {},
   "outputs": [
    {
     "name": "stdout",
     "output_type": "stream",
     "text": [
      "I love this sandwich , pos\n",
      "This is an amazing place , pos\n",
      "I feel very good about these beers , pos\n",
      "This is my best work , pos\n",
      "What an awesome view , pos\n"
     ]
    }
   ],
   "source": [
    "X5,Y5=X[0:5],msg.label[0:5]\n",
    "for x,y in zip(X5,Y5):\n",
    "    print(x,\",\",y)"
   ]
  },
  {
   "cell_type": "code",
   "execution_count": 7,
   "metadata": {},
   "outputs": [
    {
     "name": "stdout",
     "output_type": "stream",
     "text": [
      "\n",
      "Dataset is split into Training and Testing samples\n",
      "Total training instances : 13\n",
      "Total testing instances : 5\n"
     ]
    }
   ],
   "source": [
    "from sklearn.model_selection import train_test_split\n",
    "xtrain,xtest,ytrain,ytest=train_test_split(X,Y)\n",
    "print(\"\\nDataset is split into Training and Testing samples\")\n",
    "print(\"Total training instances :\",xtrain.shape[0])\n",
    "print(\"Total testing instances :\",xtest.shape[0])"
   ]
  },
  {
   "cell_type": "code",
   "execution_count": 9,
   "metadata": {
    "scrolled": true
   },
   "outputs": [
    {
     "name": "stdout",
     "output_type": "stream",
     "text": [
      "\n",
      "Total features extracted using CountVectorizer : 47\n"
     ]
    }
   ],
   "source": [
    "from sklearn.feature_extraction.text import CountVectorizer\n",
    "count_vect=CountVectorizer()\n",
    "xtrain_dtm=count_vect.fit_transform(xtrain)\n",
    "xtest_dtm=count_vect.transform(xtest)\n",
    "print(\"\\nTotal features extracted using CountVectorizer :\",xtrain_dtm.shape[1])"
   ]
  },
  {
   "cell_type": "code",
   "execution_count": 12,
   "metadata": {},
   "outputs": [
    {
     "name": "stdout",
     "output_type": "stream",
     "text": [
      "\n",
      "Features for first 5 training instances are listed below\n",
      "   about  am  amazing  an  and  bad  beers  best  boss  dance  ...  tired  to  \\\n",
      "0      0   0        0   0    0    0      0     0     0      0  ...      0   0   \n",
      "1      0   0        0   0    0    0      0     0     0      0  ...      0   0   \n",
      "2      0   0        0   0    0    0      0     1     0      0  ...      0   0   \n",
      "3      0   1        0   0    1    0      0     0     0      0  ...      1   0   \n",
      "4      0   0        0   0    0    1      0     0     0      0  ...      0   1   \n",
      "\n",
      "   today  tomorrow  very  we  went  what  will  work  \n",
      "0      0         0     0   0     0     1     0     0  \n",
      "1      0         1     0   1     0     0     1     0  \n",
      "2      0         0     0   0     0     0     0     1  \n",
      "3      0         0     0   0     0     0     0     0  \n",
      "4      0         0     0   0     0     0     0     0  \n",
      "\n",
      "[5 rows x 47 columns]\n"
     ]
    }
   ],
   "source": [
    "print(\"\\nFeatures for first 5 training instances are listed below\")\n",
    "df=pd.DataFrame(xtrain_dtm.toarray(),columns=count_vect.get_feature_names())\n",
    "print(df[0:5])\n",
    "# print(xtrain_dtm)"
   ]
  },
  {
   "cell_type": "code",
   "execution_count": 13,
   "metadata": {},
   "outputs": [],
   "source": [
    "from sklearn.naive_bayes import MultinomialNB\n",
    "clf=MultinomialNB().fit(xtrain_dtm,ytrain)\n",
    "predicted=clf.predict(xtest_dtm)"
   ]
  },
  {
   "cell_type": "code",
   "execution_count": 14,
   "metadata": {},
   "outputs": [
    {
     "name": "stdout",
     "output_type": "stream",
     "text": [
      "\n",
      "Classification results of testing samples are given below\n",
      "I can't deal with this -> neg\n",
      "This is an awesome place -> pos\n",
      "I love this sandwich -> pos\n",
      "I do not like the taste of this juice -> neg\n",
      "What an awesome view -> pos\n"
     ]
    }
   ],
   "source": [
    "print(\"\\nClassification results of testing samples are given below\")\n",
    "for doc,p in zip(xtest,predicted):\n",
    "    pred='pos' if p==1 else 'neg'\n",
    "    print(\"%s -> %s\"%(doc,pred))"
   ]
  },
  {
   "cell_type": "code",
   "execution_count": 16,
   "metadata": {},
   "outputs": [
    {
     "name": "stdout",
     "output_type": "stream",
     "text": [
      "\n",
      "Accuracy metrics\n",
      "Accuracy of the classifier is 1.0\n",
      "Recall : 1.0 \n",
      "Precision : 1.0\n",
      "Confusion matrix\n",
      "[[2 0]\n",
      " [0 3]]\n"
     ]
    }
   ],
   "source": [
    "from sklearn import metrics\n",
    "print(\"\\nAccuracy metrics\")\n",
    "print(\"Accuracy of the classifier is\",metrics.accuracy_score(ytest,predicted))\n",
    "\n",
    "print(\"Recall :\",metrics.recall_score(ytest,predicted),\"\\nPrecision :\",metrics.precision_score(ytest,predicted))\n",
    "print(\"Confusion matrix\")\n",
    "print(metrics.confusion_matrix(ytest,predicted))"
   ]
  },
  {
   "cell_type": "code",
   "execution_count": null,
   "metadata": {},
   "outputs": [],
   "source": []
  }
 ],
 "metadata": {
  "kernelspec": {
   "display_name": "Python 3",
   "language": "python",
   "name": "python3"
  },
  "language_info": {
   "codemirror_mode": {
    "name": "ipython",
    "version": 3
   },
   "file_extension": ".py",
   "mimetype": "text/x-python",
   "name": "python",
   "nbconvert_exporter": "python",
   "pygments_lexer": "ipython3",
   "version": "3.7.3"
  }
 },
 "nbformat": 4,
 "nbformat_minor": 2
}
