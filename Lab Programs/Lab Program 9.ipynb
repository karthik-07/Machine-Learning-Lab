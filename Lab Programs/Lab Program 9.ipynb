{
 "cells": [
  {
   "cell_type": "code",
   "execution_count": 2,
   "metadata": {},
   "outputs": [],
   "source": [
    "from sklearn.model_selection import train_test_split\n",
    "from sklearn.neighbors import KNeighborsClassifier\n",
    "from sklearn import datasets"
   ]
  },
  {
   "cell_type": "code",
   "execution_count": 3,
   "metadata": {},
   "outputs": [
    {
     "name": "stdout",
     "output_type": "stream",
     "text": [
      "Iris Data set loaded...\n"
     ]
    }
   ],
   "source": [
    "iris=datasets.load_iris()\n",
    "print(\"Iris Data set loaded...\")"
   ]
  },
  {
   "cell_type": "code",
   "execution_count": 4,
   "metadata": {},
   "outputs": [
    {
     "name": "stdout",
     "output_type": "stream",
     "text": [
      "Dataset is split into training and testing...\n",
      "Size of training data and its label (135, 4) (135,)\n",
      "Size of training data and its label (15, 4) (15,)\n"
     ]
    }
   ],
   "source": [
    "x_train,x_test,y_train,y_test=train_test_split(iris.data,iris.target,test_size=0.1)\n",
    "print(\"Dataset is split into training and testing...\")\n",
    "print(\"Size of training data and its label\",x_train.shape,y_train.shape)\n",
    "print(\"Size of training data and its label\",x_test.shape,y_test.shape)"
   ]
  },
  {
   "cell_type": "code",
   "execution_count": 5,
   "metadata": {},
   "outputs": [
    {
     "name": "stdout",
     "output_type": "stream",
     "text": [
      "Label 0 - setosa\n",
      "Label 1 - versicolor\n",
      "Label 2 - virginica\n"
     ]
    }
   ],
   "source": [
    "for i in range(len(iris.target_names)):\n",
    "    print(\"Label\",i,\"-\",str(iris.target_names[i]))"
   ]
  },
  {
   "cell_type": "code",
   "execution_count": 7,
   "metadata": {},
   "outputs": [
    {
     "name": "stdout",
     "output_type": "stream",
     "text": [
      "Result of Classification using K-nn with K=1\n",
      "Sample: [4.6 3.1 1.5 0.2] Actual-label: 0 Predicted-label: 0\n",
      "Sample: [4.4 3.2 1.3 0.2] Actual-label: 0 Predicted-label: 0\n",
      "Sample: [5.8 2.6 4.  1.2] Actual-label: 1 Predicted-label: 1\n",
      "Sample: [6.6 2.9 4.6 1.3] Actual-label: 1 Predicted-label: 1\n",
      "Sample: [5.1 3.8 1.9 0.4] Actual-label: 0 Predicted-label: 0\n",
      "Sample: [6.  2.9 4.5 1.5] Actual-label: 1 Predicted-label: 1\n",
      "Sample: [5.  3.  1.6 0.2] Actual-label: 0 Predicted-label: 0\n",
      "Sample: [5.8 2.7 5.1 1.9] Actual-label: 2 Predicted-label: 2\n",
      "Sample: [5.  3.6 1.4 0.2] Actual-label: 0 Predicted-label: 0\n",
      "Sample: [4.9 2.5 4.5 1.7] Actual-label: 2 Predicted-label: 1\n",
      "Sample: [7.2 3.  5.8 1.6] Actual-label: 2 Predicted-label: 2\n",
      "Sample: [6.5 3.  5.5 1.8] Actual-label: 2 Predicted-label: 2\n",
      "Sample: [5.4 3.4 1.7 0.2] Actual-label: 0 Predicted-label: 0\n",
      "Sample: [5.5 3.5 1.3 0.2] Actual-label: 0 Predicted-label: 0\n",
      "Sample: [7.2 3.6 6.1 2.5] Actual-label: 2 Predicted-label: 2\n",
      "Classification Accuracy :  0.9333333333333333\n"
     ]
    }
   ],
   "source": [
    "classifier=KNeighborsClassifier(n_neighbors=1)\n",
    "\n",
    "classifier.fit(x_train,y_train)\n",
    "y_pred=classifier.predict(x_test)\n",
    "\n",
    "print(\"Result of Classification using K-nn with K=1\")\n",
    "for r in range(0,len(x_test)):\n",
    "    print(\"Sample:\",str(x_test[r]), \"Actual-label:\",str(y_test[r]), \"Predicted-label:\",str(y_pred[r]))\n",
    "\n",
    "print(\"Classification Accuracy : \",classifier.score(x_test,y_test))    \n",
    "    "
   ]
  },
  {
   "cell_type": "code",
   "execution_count": 9,
   "metadata": {},
   "outputs": [
    {
     "name": "stdout",
     "output_type": "stream",
     "text": [
      "Confusion Matrix\n",
      "[[7 0 0]\n",
      " [0 3 0]\n",
      " [0 1 4]]\n",
      "Accuracy Metrics\n",
      "              precision    recall  f1-score   support\n",
      "\n",
      "           0       1.00      1.00      1.00         7\n",
      "           1       0.75      1.00      0.86         3\n",
      "           2       1.00      0.80      0.89         5\n",
      "\n",
      "    accuracy                           0.93        15\n",
      "   macro avg       0.92      0.93      0.92        15\n",
      "weighted avg       0.95      0.93      0.93        15\n",
      "\n"
     ]
    }
   ],
   "source": [
    "from sklearn.metrics import classification_report,confusion_matrix\n",
    "print(\"Confusion Matrix\")\n",
    "print(confusion_matrix(y_test,y_pred))\n",
    "print(\"Accuracy Metrics\")\n",
    "print(classification_report(y_test,y_pred))"
   ]
  },
  {
   "cell_type": "code",
   "execution_count": null,
   "metadata": {},
   "outputs": [],
   "source": []
  }
 ],
 "metadata": {
  "kernelspec": {
   "display_name": "Python 3",
   "language": "python",
   "name": "python3"
  },
  "language_info": {
   "codemirror_mode": {
    "name": "ipython",
    "version": 3
   },
   "file_extension": ".py",
   "mimetype": "text/x-python",
   "name": "python",
   "nbconvert_exporter": "python",
   "pygments_lexer": "ipython3",
   "version": "3.7.3"
  }
 },
 "nbformat": 4,
 "nbformat_minor": 2
}
